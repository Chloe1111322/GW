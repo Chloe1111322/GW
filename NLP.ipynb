{
  "nbformat": 4,
  "nbformat_minor": 0,
  "metadata": {
    "colab": {
      "provenance": [],
      "toc_visible": true,
      "include_colab_link": true
    },
    "kernelspec": {
      "name": "python3",
      "display_name": "Python 3"
    },
    "language_info": {
      "name": "python"
    }
  },
  "cells": [
    {
      "cell_type": "markdown",
      "metadata": {
        "id": "view-in-github",
        "colab_type": "text"
      },
      "source": [
        "<a href=\"https://colab.research.google.com/github/Chloe1111322/GW/blob/main/NLP.ipynb\" target=\"_parent\"><img src=\"https://colab.research.google.com/assets/colab-badge.svg\" alt=\"Open In Colab\"/></a>"
      ]
    },
    {
      "cell_type": "code",
      "execution_count": null,
      "metadata": {
        "colab": {
          "base_uri": "https://localhost:8080/",
          "height": 109
        },
        "id": "JYolzT2zJ27O",
        "outputId": "79d85d43-f982-4c71-befd-ff126294d780"
      },
      "outputs": [
        {
          "output_type": "error",
          "ename": "SyntaxError",
          "evalue": "invalid syntax (<ipython-input-1-0043807fbba5>, line 80)",
          "traceback": [
            "\u001b[0;36m  File \u001b[0;32m\"<ipython-input-1-0043807fbba5>\"\u001b[0;36m, line \u001b[0;32m80\u001b[0m\n\u001b[0;31m    plt.(sampled_data['polarity'], y, color='blue', label='Polarity')\u001b[0m\n\u001b[0m        ^\u001b[0m\n\u001b[0;31mSyntaxError\u001b[0m\u001b[0;31m:\u001b[0m invalid syntax\n"
          ]
        }
      ],
      "source": [
        "import os\n",
        "import re\n",
        "import pandas as pd\n",
        "from textblob import TextBlob\n",
        "import statsmodels.api as sm\n",
        "import matplotlib.pyplot as plt\n",
        "\n",
        "# Function to extract and clean text from txt files\n",
        "def extract_and_clean_text_from_txt(file_path, party, location):\n",
        "    if not os.path.exists(file_path):\n",
        "        raise FileNotFoundError(f\"The file at {file_path} does not exist. Please check the path.\")\n",
        "\n",
        "    data = []\n",
        "    current_speaker = None\n",
        "\n",
        "    with open(file_path, 'r', encoding='utf-8') as file:\n",
        "        for line in file:\n",
        "            line = line.strip()\n",
        "\n",
        "            # Check for speaker/constituency pattern (e.g., \"Seema Kennedy (7 May 2015~):\")\n",
        "            match = re.match(r\"^(.*?):\\s*$\", line)\n",
        "            if match:\n",
        "                current_speaker = match.group(1)\n",
        "            elif current_speaker and line:\n",
        "                # Add cleaned text to the list with speaker/context\n",
        "                data.append({\"speaker\": current_speaker, \"text\": line, \"party\": party, \"location\": location})\n",
        "\n",
        "    return pd.DataFrame(data)\n",
        "\n",
        "# Define file paths and check their existence\n",
        "top5_file = 'Top5.txt'\n",
        "bottom5_file = 'Bottom5.txt'\n",
        "\n",
        "# Provide a fallback or prompt user to ensure files exist\n",
        "if not os.path.exists(top5_file):\n",
        "    raise FileNotFoundError(f\"The file {top5_file} is missing. Ensure the file is uploaded to the correct directory.\")\n",
        "if not os.path.exists(bottom5_file):\n",
        "    raise FileNotFoundError(f\"The file {bottom5_file} is missing. Ensure the file is uploaded to the correct directory.\")\n",
        "\n",
        "# Load and clean text data from txt files\n",
        "top5_data = extract_and_clean_text_from_txt(top5_file, 'Conservative', 'Top 5')\n",
        "bottom5_data = extract_and_clean_text_from_txt(bottom5_file, 'Labour', 'Bottom 5')\n",
        "\n",
        "# Combine datasets\n",
        "data = pd.concat([top5_data, bottom5_data], ignore_index=True)\n",
        "\n",
        "# Function to analyze polarity and subjectivity\n",
        "def analyze_text(text):\n",
        "    blob = TextBlob(text)\n",
        "    return blob.polarity, blob.subjectivity\n",
        "\n",
        "# Apply text analysis\n",
        "data[['polarity', 'subjectivity']] = data['text'].apply(lambda x: pd.Series(analyze_text(x)))\n",
        "\n",
        "# Group data by location and sample 10 texts per group\n",
        "sampled_data = (\n",
        "    data.groupby(['location'], group_keys=False)\n",
        "    .apply(lambda x: x.sample(n=10, random_state=42) if len(x) >= 10 else x)\n",
        ")\n",
        "\n",
        "# Prepare data for regression\n",
        "# Map location names to numeric values (e.g., 'Bottom 5' -> 0, 'Top 5' -> 1)\n",
        "location_mapping = {'Bottom 5': 0, 'Top 5': 1}\n",
        "sampled_data['location_numeric'] = sampled_data['location'].map(location_mapping)\n",
        "\n",
        "# Perform regression\n",
        "X = sampled_data[['polarity', 'subjectivity']]\n",
        "y = sampled_data['location_numeric']\n",
        "\n",
        "# Add constant for statsmodels\n",
        "X = sm.add_constant(X)\n",
        "\n",
        "# Fit the regression model\n",
        "model = sm.OLS(y, X).fit()\n",
        "\n",
        "# Print the regression summary\n",
        "print(model.summary())\n",
        "\n",
        "# Visualize the results\n",
        "plt.(sampled_data['polarity'], y, color='blue', label='Polarity')\n",
        "plt.scatter(sampled_data['subjectivity'], y, color='orange', label='Subjectivity')\n",
        "plt.xlabel('Polarity / Subjectivity')\n",
        "plt.ylabel('Location (0=Bottom 5, 1=Top 5)')\n",
        "plt.legend()\n",
        "plt.title('Polarity and Subjectivity vs Location')\n",
        "plt.savefig('polarity_subjectivity_vs_location.png')\n",
        "\n"
      ]
    }
  ]
}